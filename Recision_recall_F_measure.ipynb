{
  "nbformat": 4,
  "nbformat_minor": 0,
  "metadata": {
    "colab": {
      "name": "Recision-recall-F-measure.ipynb",
      "provenance": []
    },
    "kernelspec": {
      "name": "python3",
      "display_name": "Python 3"
    }
  },
  "cells": [
    {
      "cell_type": "markdown",
      "metadata": {
        "id": "oBc2Fc-CeqH8"
      },
      "source": [
        "##AI ASSIGNMENT\n",
        "6B\n",
        "\n",
        "Name- AMIT KUMAR\n",
        "\n",
        "Roll no. -137\n"
      ]
    },
    {
      "cell_type": "code",
      "metadata": {
        "id": "iKdBqPRUYT7p"
      },
      "source": [
        "\n",
        "from matplotlib import pyplot as plt"
      ],
      "execution_count": 25,
      "outputs": []
    },
    {
      "cell_type": "code",
      "metadata": {
        "id": "BlDDo0MbYWGu"
      },
      "source": [
        "from sklearn.metrics import confusion_matrix , classification_report\n",
        "import pandas as pd\n",
        "import seaborn as sns\n",
        "import numpy as np"
      ],
      "execution_count": 26,
      "outputs": []
    },
    {
      "cell_type": "code",
      "metadata": {
        "id": "qwtt_jbeYf5g"
      },
      "source": [
        "def print_confusion_matrix(confusion_matrix, class_names, figsize = (10,7), fontsize=14):\n",
        "    \n",
        "    df_cm = pd.DataFrame(\n",
        "        confusion_matrix, index=class_names, columns=class_names, \n",
        "    )\n",
        "    fig = plt.figure(figsize=figsize)\n",
        "    try:\n",
        "        heatmap = sns.heatmap(df_cm, annot=True, fmt=\"d\")\n",
        "    except ValueError:\n",
        "        raise ValueError(\"Confusion matrix values must be integers.\")\n",
        "    heatmap.yaxis.set_ticklabels(heatmap.yaxis.get_ticklabels(), rotation=0, ha='right', fontsize=fontsize)\n",
        "    heatmap.xaxis.set_ticklabels(heatmap.xaxis.get_ticklabels(), rotation=45, ha='right', fontsize=fontsize)\n",
        "    plt.ylabel('Truth')\n",
        "    plt.xlabel('Prediction')"
      ],
      "execution_count": 27,
      "outputs": []
    },
    {
      "cell_type": "code",
      "metadata": {
        "id": "RdWU1I-zYrO-"
      },
      "source": [
        "\n",
        "truth =      [\"Head\",\"Tail\",\"Head\",\"Head\",      \"Head\", \"Tail\", \"Tail\", \"Head\",       \"Head\", \"Tail\"]\n",
        "prediction = [\"Head\",\"Head\",      \"Head\",\"Tail\",\"Head\", \"Tail\", \"Head\",       \"Tail\", \"Head\", \"Head\"]"
      ],
      "execution_count": 28,
      "outputs": []
    },
    {
      "cell_type": "code",
      "metadata": {
        "id": "Ov__CZxlY1qf"
      },
      "source": [
        "cm = confusion_matrix(truth,prediction)\n"
      ],
      "execution_count": 29,
      "outputs": []
    },
    {
      "cell_type": "code",
      "metadata": {
        "colab": {
          "base_uri": "https://localhost:8080/",
          "height": 472
        },
        "id": "ADOqj-A8Y6SJ",
        "outputId": "ddfd0e60-5331-4eea-ffce-fb27bd24b2fb"
      },
      "source": [
        "print_confusion_matrix(cm,[\"Head\",\"Tail\"])"
      ],
      "execution_count": 30,
      "outputs": [
        {
          "output_type": "display_data",
          "data": {
            "image/png": "[encoded data removed]",
            "text/plain": [
              "<Figure size 720x504 with 2 Axes>"
            ]
          },
          "metadata": {
            "tags": [],
            "needs_background": "light"
          }
        }
      ]
    },
    {
      "cell_type": "code",
      "metadata": {
        "colab": {
          "base_uri": "https://localhost:8080/"
        },
        "id": "DoiwmNBDZMom",
        "outputId": "2329e57f-5164-4c1d-8554-2fa4e4ceb7d5"
      },
      "source": [
        "print(classification_report(truth, prediction))"
      ],
      "execution_count": 31,
      "outputs": [
        {
          "output_type": "stream",
          "text": [
            "              precision    recall  f1-score   support\n",
            "\n",
            "        Head       0.57      0.67      0.62         6\n",
            "        Tail       0.33      0.25      0.29         4\n",
            "\n",
            "    accuracy                           0.50        10\n",
            "   macro avg       0.45      0.46      0.45        10\n",
            "weighted avg       0.48      0.50      0.48        10\n",
            "\n"
          ],
          "name": "stdout"
        }
      ]
    },
    {
      "cell_type": "markdown",
      "metadata": {
        "id": "_hTRTQzUdEV0"
      },
      "source": [
        "\n",
        "##f1 score for Head"
      ]
    },
    {
      "cell_type": "code",
      "metadata": {
        "colab": {
          "base_uri": "https://localhost:8080/"
        },
        "id": "Bv-vbMtGbFu4",
        "outputId": "65154936-ea56-43bc-a232-ea0c7d76b24e"
      },
      "source": [
        "\n",
        "2*(0.57*0.67/(0.57+0.67))"
      ],
      "execution_count": 23,
      "outputs": [
        {
          "output_type": "execute_result",
          "data": {
            "text/plain": [
              "0.6159677419354839"
            ]
          },
          "metadata": {
            "tags": []
          },
          "execution_count": 23
        }
      ]
    },
    {
      "cell_type": "markdown",
      "metadata": {
        "id": "rqntEroUdLyi"
      },
      "source": [
        "\n",
        "##f1 score for Tail"
      ]
    },
    {
      "cell_type": "code",
      "metadata": {
        "colab": {
          "base_uri": "https://localhost:8080/"
        },
        "id": "5u-OgHbtdJKp",
        "outputId": "f906dbc6-41aa-47b1-9dfe-be744ea78bdc"
      },
      "source": [
        "2*(0.33*0.25/(0.33+0.25))"
      ],
      "execution_count": 24,
      "outputs": [
        {
          "output_type": "execute_result",
          "data": {
            "text/plain": [
              "0.2844827586206896"
            ]
          },
          "metadata": {
            "tags": []
          },
          "execution_count": 24
        }
      ]
    },
    {
      "cell_type": "code",
      "metadata": {
        "id": "yTYclokddQ68"
      },
      "source": [
        ""
      ],
      "execution_count": null,
      "outputs": []
    }
  ]
}